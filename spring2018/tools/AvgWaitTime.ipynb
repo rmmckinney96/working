{
 "cells": [
  {
   "cell_type": "markdown",
   "metadata": {},
   "source": [
    "## Import"
   ]
  },
  {
   "cell_type": "code",
   "execution_count": 7,
   "metadata": {},
   "outputs": [],
   "source": [
    "%matplotlib inline\n",
    "import matplotlib\n",
    "import matplotlib.pyplot as plt\n",
    "import pandas as pd\n",
    "import scipy.stats as sp\n",
    "import numpy as np"
   ]
  },
  {
   "cell_type": "markdown",
   "metadata": {},
   "source": [
    "# Wait Time"
   ]
  },
  {
   "cell_type": "code",
   "execution_count": 8,
   "metadata": {},
   "outputs": [],
   "source": [
    "def waitTime(lmbd, mu, N):\n",
    "    tba = pd.Series([0])\n",
    "    st = pd.Series([])\n",
    "    wt = pd.Series([0])\n",
    "    t = 0\n",
    "    it = 0\n",
    "    \n",
    "    for i in range(1,N):\n",
    "        tba[i] = sp.expon.rvs(lmbd)\n",
    "    for i in range(0,N):\n",
    "        st[i] = sp.expon.rvs(mu)\n",
    "    atp = pd.Series(np.cumsum(tba))\n",
    "    t = st[0]\n",
    "    for i in range(0,N-1):\n",
    "        if t >= atp[i+1]:\n",
    "            wt[i+1] = t - atp[i+1] \n",
    "        else:\n",
    "            it = it + atp[i+1] - t\n",
    "            wt[i+1] = 0\n",
    "            t = atp[i+1]\n",
    "            \n",
    "    return wt\n"
   ]
  },
  {
   "cell_type": "code",
   "execution_count": 19,
   "metadata": {},
   "outputs": [
    {
     "data": {
      "text/plain": [
       "<matplotlib.axes._subplots.AxesSubplot at 0x7f5554ea7ba8>"
      ]
     },
     "execution_count": 19,
     "metadata": {},
     "output_type": "execute_result"
    },
    {
     "data": {
      "image/png": "[encoded data removed]",
      "text/plain": [
       "<matplotlib.figure.Figure at 0x7f5554f0f780>"
      ]
     },
     "metadata": {},
     "output_type": "display_data"
    }
   ],
   "source": [
    "exp = waitTime(3,17,50)\n",
    "exp.plot()"
   ]
  },
  {
   "cell_type": "code",
   "execution_count": null,
   "metadata": {},
   "outputs": [],
   "source": []
  }
 ],
 "metadata": {
  "kernelspec": {
   "display_name": "Python 3",
   "language": "python",
   "name": "python3"
  },
  "language_info": {
   "codemirror_mode": {
    "name": "ipython",
    "version": 3
   },
   "file_extension": ".py",
   "mimetype": "text/x-python",
   "name": "python",
   "nbconvert_exporter": "python",
   "pygments_lexer": "ipython3",
   "version": "3.5.2"
  }
 },
 "nbformat": 4,
 "nbformat_minor": 2
}
