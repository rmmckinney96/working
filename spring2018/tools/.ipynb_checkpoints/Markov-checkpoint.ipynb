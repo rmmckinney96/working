{
 "cells": [
  {
   "cell_type": "markdown",
   "metadata": {},
   "source": [
    "## Import"
   ]
  },
  {
   "cell_type": "code",
   "execution_count": 1,
   "metadata": {},
   "outputs": [],
   "source": [
    "import scipy as sp\n",
    "import numpy as np\n",
    "import pandas as pd"
   ]
  },
  {
   "cell_type": "markdown",
   "metadata": {},
   "source": [
    "# First Passage Probability"
   ]
  },
  {
   "cell_type": "code",
   "execution_count": 2,
   "metadata": {},
   "outputs": [],
   "source": [
    "def firstPassage(P,i,j,N):\n",
    "    P = np.asmatrix(P)        \n",
    "    if N != 1: return (P**N)[i,j] - sigma(P,i,j,N)\n",
    "    else: return (P[i,j])\n",
    "def sigma(P,i,j,N):\n",
    "    sig = 0\n",
    "    for k in range(N-1,0,-1):\n",
    "        sig = sig + (firstPassage(P,i,j,k))*(((P**(N-k))[j,j]))\n",
    "    return sig    "
   ]
  },
  {
   "cell_type": "markdown",
   "metadata": {},
   "source": [
    "# Mean First Passage Time"
   ]
  },
  {
   "cell_type": "code",
   "execution_count": 6,
   "metadata": {},
   "outputs": [],
   "source": [
    "def meanfirstPassage(P,i,j):\n",
    "    P = np.asmatrix(P)\n",
    "    I = P.copy()\n",
    "    I[:] = 0\n",
    "    np.fill_diagonal(I,1)\n",
    "    onevec = np.ones((len(P),1))\n",
    "    P[:,j] = 0\n",
    "    A = I - P\n",
    "    A = np.linalg.inv(A)\n",
    "    Avec = A.sum(axis=1)\n",
    "    return Avec[i,0]"
   ]
  },
  {
   "cell_type": "markdown",
   "metadata": {},
   "source": [
    "## Markov State Matrix Check"
   ]
  },
  {
   "cell_type": "code",
   "execution_count": null,
   "metadata": {},
   "outputs": [],
   "source": [
    "def msmCheck(final):\n",
    "    finalCheck = final.sum(axis=1)\n",
    "    if (finalCheck.sum() == len(finalCheck)) and (len(final) == len(final.T)):\n",
    "        return \"MSM\"\n",
    "    else:\n",
    "        return \"This isn't working\""
   ]
  }
 ],
 "metadata": {
  "kernelspec": {
   "display_name": "Python 3",
   "language": "python",
   "name": "python3"
  },
  "language_info": {
   "codemirror_mode": {
    "name": "ipython",
    "version": 3
   },
   "file_extension": ".py",
   "mimetype": "text/x-python",
   "name": "python",
   "nbconvert_exporter": "python",
   "pygments_lexer": "ipython3",
   "version": "3.5.2"
  }
 },
 "nbformat": 4,
 "nbformat_minor": 2
}
