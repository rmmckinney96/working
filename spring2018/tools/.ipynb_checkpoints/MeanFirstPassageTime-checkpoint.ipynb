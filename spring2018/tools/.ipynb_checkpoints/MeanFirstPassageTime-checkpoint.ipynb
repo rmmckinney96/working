{
 "cells": [
  {
   "cell_type": "code",
   "execution_count": 1,
   "metadata": {},
   "outputs": [],
   "source": [
    "import scipy as sp\n",
    "import numpy as np\n",
    "import pandas as pd"
   ]
  },
  {
   "cell_type": "code",
   "execution_count": null,
   "metadata": {},
   "outputs": [],
   "source": [
    "def firstPassage(P,i,j,N):\n",
    "    if N != 1: return (P[i][j])**N - sigma(P,i,j,N)\n",
    "    else: return (P[i][j])\n",
    "def sigma(P,i,j,N):\n",
    "\n",
    "    sig = 0\n",
    "    for k in range(N-1,0,-1):\n",
    "        sig = sig + (firstPassage(P,i,j,k))*((P[j][j])**(N-k))\n",
    "    return sig    "
   ]
  }
 ],
 "metadata": {
  "kernelspec": {
   "display_name": "Python 3",
   "language": "python",
   "name": "python3"
  },
  "language_info": {
   "codemirror_mode": {
    "name": "ipython",
    "version": 3
   },
   "file_extension": ".py",
   "mimetype": "text/x-python",
   "name": "python",
   "nbconvert_exporter": "python",
   "pygments_lexer": "ipython3",
   "version": "3.5.2"
  }
 },
 "nbformat": 4,
 "nbformat_minor": 2
}
