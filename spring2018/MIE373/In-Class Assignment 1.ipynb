{
 "cells": [
  {
   "cell_type": "markdown",
   "metadata": {},
   "source": [
    "## Import"
   ]
  },
  {
   "cell_type": "code",
   "execution_count": 1,
   "metadata": {},
   "outputs": [],
   "source": [
    "import matplotlib.pyplot as plt\n",
    "import numpy as np\n",
    "import scipy.stats as sp\n",
    "import pandas as pd"
   ]
  },
  {
   "cell_type": "markdown",
   "metadata": {},
   "source": [
    "# Average Wait Time"
   ]
  },
  {
   "cell_type": "code",
   "execution_count": 2,
   "metadata": {},
   "outputs": [],
   "source": [
    "def func(lmbd, mu, N):\n",
    "    tba = pd.Series([0])\n",
    "    st = pd.Series([])\n",
    "    wt = pd.Series([0])\n",
    "    t = 0\n",
    "    it = 0\n",
    "    \n",
    "    for i in range(1,N):\n",
    "        tba[i] = sp.expon.rvs(lmbd)\n",
    "    for i in range(0,N):\n",
    "        st[i] = sp.expon.rvs(mu)\n",
    "    atp = pd.Series(np.cumsum(tba))\n",
    "    t = st[0]\n",
    "    for i in range(0,N-1):\n",
    "        if t >= atp[i+1]:\n",
    "            wt[i+1] = t - atp[i+1] \n",
    "        else:\n",
    "            it = it + atp[i+1] - t\n",
    "            wt[i+1] = 0\n",
    "            t = atp[i+1]\n",
    "            \n",
    "    return np.mean(wt)"
   ]
  },
  {
   "cell_type": "code",
   "execution_count": 3,
   "metadata": {},
   "outputs": [
    {
     "data": {
      "text/plain": [
       "0     0.000000\n",
       "1     0.000000\n",
       "2     0.000000\n",
       "3     0.000000\n",
       "4     0.000000\n",
       "5     0.000000\n",
       "6     0.000000\n",
       "7     0.000000\n",
       "8     0.000000\n",
       "9     0.000000\n",
       "10    0.000000\n",
       "11    0.000000\n",
       "12    0.000000\n",
       "13    0.000000\n",
       "14    0.003671\n",
       "15    0.000000\n",
       "16    0.000000\n",
       "17    0.000000\n",
       "18    0.000000\n",
       "19    0.000000\n",
       "20    0.000000\n",
       "21    0.000000\n",
       "22    0.000000\n",
       "23    0.000000\n",
       "24    0.000000\n",
       "25    0.000000\n",
       "26    0.000000\n",
       "27    0.000000\n",
       "28    0.000000\n",
       "29    0.000000\n",
       "        ...   \n",
       "70    0.000000\n",
       "71    0.000000\n",
       "72    0.000000\n",
       "73    0.000000\n",
       "74    0.000000\n",
       "75    0.000000\n",
       "76    0.000000\n",
       "77    0.000000\n",
       "78    0.000000\n",
       "79    0.000000\n",
       "80    0.046317\n",
       "81    0.000000\n",
       "82    0.000000\n",
       "83    0.000000\n",
       "84    0.000000\n",
       "85    0.000000\n",
       "86    0.000000\n",
       "87    0.000000\n",
       "88    0.000000\n",
       "89    0.000000\n",
       "90    0.000000\n",
       "91    0.000000\n",
       "92    0.000000\n",
       "93    0.000000\n",
       "94    0.000000\n",
       "95    0.000000\n",
       "96    0.000000\n",
       "97    0.000000\n",
       "98    0.000000\n",
       "99    0.000000\n",
       "Length: 100, dtype: float64"
      ]
     },
     "execution_count": 3,
     "metadata": {},
     "output_type": "execute_result"
    }
   ],
   "source": [
    "timelist = pd.Series([])\n",
    "for i in range(0,100):\n",
    "    timelist[i] = func(16,14,10)\n",
    "timelist"
   ]
  },
  {
   "cell_type": "code",
   "execution_count": 4,
   "metadata": {},
   "outputs": [
    {
     "data": {
      "image/png": "[encoded data removed]",
      "text/plain": [
       "<matplotlib.figure.Figure at 0x7f0c4ee58860>"
      ]
     },
     "metadata": {},
     "output_type": "display_data"
    }
   ],
   "source": [
    "plt.hist(timelist)\n",
    "plt.title(\"Average Wait Time Distribution\")\n",
    "plt.show()\n"
   ]
  },
  {
   "cell_type": "code",
   "execution_count": null,
   "metadata": {},
   "outputs": [],
   "source": []
  },
  {
   "cell_type": "code",
   "execution_count": null,
   "metadata": {},
   "outputs": [],
   "source": []
  }
 ],
 "metadata": {
  "kernelspec": {
   "display_name": "Python 3",
   "language": "python",
   "name": "python3"
  },
  "language_info": {
   "codemirror_mode": {
    "name": "ipython",
    "version": 3
   },
   "file_extension": ".py",
   "mimetype": "text/x-python",
   "name": "python",
   "nbconvert_exporter": "python",
   "pygments_lexer": "ipython3",
   "version": "3.5.2"
  }
 },
 "nbformat": 4,
 "nbformat_minor": 2
}
