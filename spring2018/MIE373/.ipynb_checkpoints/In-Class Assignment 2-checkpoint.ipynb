{
 "cells": [
  {
   "cell_type": "markdown",
   "metadata": {},
   "source": [
    "## Import"
   ]
  },
  {
   "cell_type": "code",
   "execution_count": 1,
   "metadata": {},
   "outputs": [],
   "source": [
    "import matplotlib.pyplot as plt\n",
    "import numpy as np\n",
    "import scipy.stats as sp\n",
    "import pandas as pd"
   ]
  },
  {
   "cell_type": "markdown",
   "metadata": {},
   "source": [
    "# Linear Congruential Generator"
   ]
  },
  {
   "cell_type": "code",
   "execution_count": 2,
   "metadata": {},
   "outputs": [],
   "source": [
    "def linCongGen(X0,a,c,m):\n",
    "    X = 0\n",
    "    exes = [X0]\n",
    "    while X != X0:\n",
    "        X = (a*(exes[-1]) + c) % m\n",
    "        exes.append(X)\n",
    "    return exes"
   ]
  },
  {
   "cell_type": "markdown",
   "metadata": {},
   "source": [
    "### Input"
   ]
  },
  {
   "cell_type": "code",
   "execution_count": 3,
   "metadata": {},
   "outputs": [
    {
     "name": "stdout",
     "output_type": "stream",
     "text": [
      "0       111\n",
      "1       606\n",
      "2         9\n",
      "3        96\n",
      "4       531\n",
      "5       658\n",
      "6       269\n",
      "7       372\n",
      "8       887\n",
      "9       390\n",
      "10      977\n",
      "11      840\n",
      "12      155\n",
      "13      826\n",
      "14       85\n",
      "15      476\n",
      "16      383\n",
      "17      942\n",
      "18      665\n",
      "19      304\n",
      "20      547\n",
      "21      738\n",
      "22      669\n",
      "23      324\n",
      "24      647\n",
      "25      214\n",
      "26       97\n",
      "27      536\n",
      "28      683\n",
      "29      394\n",
      "       ... \n",
      "995     704\n",
      "996     499\n",
      "997     498\n",
      "998     493\n",
      "999     468\n",
      "1000    343\n",
      "1001    742\n",
      "1002    689\n",
      "1003    424\n",
      "1004    123\n",
      "1005    666\n",
      "1006    309\n",
      "1007    572\n",
      "1008    863\n",
      "1009    270\n",
      "1010    377\n",
      "1011    912\n",
      "1012    515\n",
      "1013    578\n",
      "1014    893\n",
      "1015    420\n",
      "1016    103\n",
      "1017    566\n",
      "1018    833\n",
      "1019    120\n",
      "1020    651\n",
      "1021    234\n",
      "1022    197\n",
      "1023     12\n",
      "1024    111\n",
      "Length: 1025, dtype: int64\n"
     ]
    }
   ],
   "source": [
    "linCong = linCongGen(111,5,51,1024)\n",
    "print(pd.Series(linCong))"
   ]
  },
  {
   "cell_type": "markdown",
   "metadata": {},
   "source": [
    "### Histogram"
   ]
  },
  {
   "cell_type": "code",
   "execution_count": 57,
   "metadata": {},
   "outputs": [
    {
     "name": "stdout",
     "output_type": "stream",
     "text": [
      "Period: 1025\n"
     ]
    },
    {
     "data": {
      "image/png": "[encoded data removed]",
      "text/plain": [
       "<matplotlib.figure.Figure at 0x7f2632983400>"
      ]
     },
     "metadata": {},
     "output_type": "display_data"
    }
   ],
   "source": [
    "plt.hist(linCong)\n",
    "print(\"Period: \" + str(len(linCong)))"
   ]
  },
  {
   "cell_type": "markdown",
   "metadata": {},
   "source": [
    "### Chi-Square Test"
   ]
  },
  {
   "cell_type": "code",
   "execution_count": 58,
   "metadata": {},
   "outputs": [
    {
     "data": {
      "text/plain": [
       "Power_divergenceResult(statistic=175380.58752364537, pvalue=0.0)"
      ]
     },
     "execution_count": 58,
     "metadata": {},
     "output_type": "execute_result"
    }
   ],
   "source": [
    "sp.chisquare(linCong)"
   ]
  },
  {
   "cell_type": "markdown",
   "metadata": {},
   "source": [
    "# Random Methods"
   ]
  },
  {
   "cell_type": "markdown",
   "metadata": {},
   "source": [
    "## Random"
   ]
  },
  {
   "cell_type": "code",
   "execution_count": 59,
   "metadata": {},
   "outputs": [
    {
     "data": {
      "text/plain": [
       "(array([ 9,  4, 10,  6, 16, 15, 14, 11,  6,  9]),\n",
       " array([0. , 0.1, 0.2, 0.3, 0.4, 0.5, 0.6, 0.7, 0.8, 0.9, 1. ]))"
      ]
     },
     "execution_count": 59,
     "metadata": {},
     "output_type": "execute_result"
    }
   ],
   "source": [
    "rand = np.random.rand(100)\n",
    "randbin = np.histogram(rand, bins=10,range=(0,1))\n",
    "randbin"
   ]
  },
  {
   "cell_type": "code",
   "execution_count": 60,
   "metadata": {},
   "outputs": [
    {
     "data": {
      "text/plain": [
       "14.8"
      ]
     },
     "execution_count": 60,
     "metadata": {},
     "output_type": "execute_result"
    }
   ],
   "source": [
    "var = randbin[0].copy()\n",
    "var = ((randbin[0] - 10)**2)/10.0\n",
    "var.sum(axis=0)"
   ]
  },
  {
   "cell_type": "code",
   "execution_count": null,
   "metadata": {},
   "outputs": [],
   "source": []
  }
 ],
 "metadata": {
  "kernelspec": {
   "display_name": "Python 3",
   "language": "python",
   "name": "python3"
  },
  "language_info": {
   "codemirror_mode": {
    "name": "ipython",
    "version": 3
   },
   "file_extension": ".py",
   "mimetype": "text/x-python",
   "name": "python",
   "nbconvert_exporter": "python",
   "pygments_lexer": "ipython3",
   "version": "3.5.2"
  }
 },
 "nbformat": 4,
 "nbformat_minor": 2
}
