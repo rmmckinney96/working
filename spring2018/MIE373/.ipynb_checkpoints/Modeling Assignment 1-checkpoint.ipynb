{
 "cells": [
  {
   "cell_type": "code",
   "execution_count": 1,
   "metadata": {},
   "outputs": [],
   "source": [
    "#Import libraries\n",
    "import numpy as np\n",
    "import scipy.stats as sp\n",
    "import pandas as pd\n",
    "import matplotlib.pyplot as plt"
   ]
  },
  {
   "cell_type": "code",
   "execution_count": 2,
   "metadata": {},
   "outputs": [],
   "source": [
    "#Deterministic function, takes no parameters and always returns the same thing\n",
    "#Contains data for problem and returns reformatted for math\n",
    "def dailyVisits():\n",
    "#Data, separated by commobidity count range 02 & 37\n",
    "    visitDaily02 = pd.Series([1.72,2.74,3.82])/241\n",
    "    visitDaily37 = pd.Series([5.16,6.82,7.67,9.62,11.17])/241    \n",
    "#Data, mean daily visits for each physician & patient commorbidity count\n",
    "    phys102 = pd.Series([380,372,269]*visitDaily02)\n",
    "    phys137 = pd.Series([187,98,33,8,1]*visitDaily37)\n",
    "    phys202 = pd.Series([230,272,240]*visitDaily02)\n",
    "    phys237 = pd.Series([190,124,47,23,5]*visitDaily37)\n",
    "#Format in dataFrames\n",
    "    comorMat02 = pd.DataFrame({'phys1' : phys102,'phys2' : phys202})\n",
    "    comorMat37 = pd.DataFrame({'phys1' : phys137,'phys2' : phys237})\n",
    "#Combine and sum dataFrames\n",
    "    comorMat02 = comorMat02.T\n",
    "    comorMat37 = comorMat37.T\n",
    "    comorMat02['DailyVisits'] = comorMat02.sum(axis=1)\n",
    "    comorMat37['DailyVisits'] = comorMat37.sum(axis=1)\n",
    "#Return daily visits for each physician of each kind of patient\n",
    "    return pd.DataFrame({'0-2' : comorMat02['DailyVisits'],'3-7' : comorMat37['DailyVisits']})"
   ]
  },
  {
   "cell_type": "code",
   "execution_count": 3,
   "metadata": {},
   "outputs": [],
   "source": [
    "#Deterministic function, takes no parameters and always returns the same thing\n",
    "#Call dailyVisits()\n",
    "#Apply time weights to '3-7' patients\n",
    "def appMean():\n",
    "    visits = dailyVisits()\n",
    "    visits['3-7']['phys1'] = visits['3-7']['phys1']*2\n",
    "    visits['3-7']['phys2'] = visits['3-7']['phys2']*2\n",
    "    visits['DailyVisits'] = visits.sum(axis=1)\n",
    "#Return average number of total daily appointments        \n",
    "    return visits"
   ]
  },
  {
   "cell_type": "code",
   "execution_count": 4,
   "metadata": {},
   "outputs": [],
   "source": [
    "#Call dailyVisits()\n",
    "#Apply time weights to '3-7' patients\n",
    "#Randomized version of appMean()\n",
    "def appRand():\n",
    "    visits = dailyVisits()\n",
    "    visits = pd.DataFrame(sp.expon.rvs(visits))\n",
    "    visits.columns = ['0-2','3-7']\n",
    "    visits.index = ['phys1','phys2']\n",
    "    visits['3-7']['phys1'] = visits['3-7']['phys1']*2\n",
    "    visits['3-7']['phys2'] = visits['3-7']['phys2']*2\n",
    "    visits['DailyVisits'] = visits.sum(axis=1)\n",
    "#Return instance of total daily appointments, based on exponential sampling\n",
    "    return visits\n"
   ]
  },
  {
   "cell_type": "code",
   "execution_count": 5,
   "metadata": {},
   "outputs": [
    {
     "data": {
      "text/html": [
       "<div>\n",
       "<style scoped>\n",
       "    .dataframe tbody tr th:only-of-type {\n",
       "        vertical-align: middle;\n",
       "    }\n",
       "\n",
       "    .dataframe tbody tr th {\n",
       "        vertical-align: top;\n",
       "    }\n",
       "\n",
       "    .dataframe thead th {\n",
       "        text-align: right;\n",
       "    }\n",
       "</style>\n",
       "<table border=\"1\" class=\"dataframe\">\n",
       "  <thead>\n",
       "    <tr style=\"text-align: right;\">\n",
       "      <th></th>\n",
       "      <th>0-2</th>\n",
       "      <th>3-7</th>\n",
       "      <th>DailyVisits</th>\n",
       "    </tr>\n",
       "  </thead>\n",
       "  <tbody>\n",
       "    <tr>\n",
       "      <th>phys1</th>\n",
       "      <td>11.205228</td>\n",
       "      <td>16.386058</td>\n",
       "      <td>27.591286</td>\n",
       "    </tr>\n",
       "    <tr>\n",
       "      <th>phys2</th>\n",
       "      <td>8.538091</td>\n",
       "      <td>20.445477</td>\n",
       "      <td>28.983568</td>\n",
       "    </tr>\n",
       "  </tbody>\n",
       "</table>\n",
       "</div>"
      ],
      "text/plain": [
       "             0-2        3-7  DailyVisits\n",
       "phys1  11.205228  16.386058    27.591286\n",
       "phys2   8.538091  20.445477    28.983568"
      ]
     },
     "execution_count": 5,
     "metadata": {},
     "output_type": "execute_result"
    }
   ],
   "source": [
    "#Demo of average daily appointments\n",
    "appMean()"
   ]
  },
  {
   "cell_type": "code",
   "execution_count": 6,
   "metadata": {},
   "outputs": [
    {
     "data": {
      "text/html": [
       "<div>\n",
       "<style scoped>\n",
       "    .dataframe tbody tr th:only-of-type {\n",
       "        vertical-align: middle;\n",
       "    }\n",
       "\n",
       "    .dataframe tbody tr th {\n",
       "        vertical-align: top;\n",
       "    }\n",
       "\n",
       "    .dataframe thead th {\n",
       "        text-align: right;\n",
       "    }\n",
       "</style>\n",
       "<table border=\"1\" class=\"dataframe\">\n",
       "  <thead>\n",
       "    <tr style=\"text-align: right;\">\n",
       "      <th></th>\n",
       "      <th>0-2</th>\n",
       "      <th>3-7</th>\n",
       "      <th>DailyVisits</th>\n",
       "    </tr>\n",
       "  </thead>\n",
       "  <tbody>\n",
       "    <tr>\n",
       "      <th>phys1</th>\n",
       "      <td>11.510551</td>\n",
       "      <td>17.342019</td>\n",
       "      <td>28.852569</td>\n",
       "    </tr>\n",
       "    <tr>\n",
       "      <th>phys2</th>\n",
       "      <td>9.816150</td>\n",
       "      <td>21.450444</td>\n",
       "      <td>31.266594</td>\n",
       "    </tr>\n",
       "  </tbody>\n",
       "</table>\n",
       "</div>"
      ],
      "text/plain": [
       "             0-2        3-7  DailyVisits\n",
       "phys1  11.510551  17.342019    28.852569\n",
       "phys2   9.816150  21.450444    31.266594"
      ]
     },
     "execution_count": 6,
     "metadata": {},
     "output_type": "execute_result"
    }
   ],
   "source": [
    "#Demo of random daily appointments\n",
    "appRand()"
   ]
  },
  {
   "cell_type": "code",
   "execution_count": 7,
   "metadata": {
    "inputHidden": false,
    "outputHidden": false
   },
   "outputs": [],
   "source": [
    "#Take the \"simulate()\" or \"simulateShared()\" functions and outputs relevant data\n",
    "def simOutput(sim):\n",
    "#Plot queue length for simulation for each day    \n",
    "    plt.figure(0)\n",
    "    sim.plot(legend=True)\n",
    "    plt.show()\n",
    "#Print maximum and average    \n",
    "    print(\"Maximum Queue Length\")\n",
    "    print(\"\")\n",
    "    print(sim.max())\n",
    "    print(\"\")\n",
    "    print(\"Average Queue Length\")\n",
    "    print(\"\")\n",
    "    print(sim.mean())\n",
    "    print(\"\")\n",
    "#Print percentile\n",
    "    percentile = pd.Series({\n",
    "        'phys1:0-2':np.percentile(sim['phys1:0-2'],90),\n",
    "        'phys1:3-7':np.percentile(sim['phys1:3-7'],90),\n",
    "        'phys2:0-2':np.percentile(sim['phys2:0-2'],90),\n",
    "        'phys2:3-7':np.percentile(sim['phys2:3-7'],90)})\n",
    "\n",
    "    print(\"90th Percentile\")\n",
    "    print(\"\")\n",
    "    print(percentile)    "
   ]
  },
  {
   "cell_type": "code",
   "execution_count": 8,
   "metadata": {},
   "outputs": [],
   "source": [
    "#Run simulation for N days with chosen number of daily appointment slots C1 and C2\n",
    "def simulate(C1,C2,N):\n",
    "#Initialize queue lengths at 0\n",
    "    q102 = 0\n",
    "    q137 = 0\n",
    "    q202 = 0\n",
    "    q237 = 0\n",
    "#Initialize matrices which will hold timeseries of queue lengths at the end of each day    \n",
    "    matq102 = pd.Series([])\n",
    "    matq137 = pd.Series([])\n",
    "    matq202 = pd.Series([])\n",
    "    matq237 = pd.Series([])\n",
    "#Run simulation for N days\n",
    "    for i in range(N):\n",
    "#Typecast random appointments to integers, i.e. no such thing as a fraction of an appt\n",
    "        visits = appRand().astype(int)\n",
    "        \n",
    "        q102 = q102 + visits['0-2']['phys1']\n",
    "        q137 = q137 + visits['3-7']['phys1']\n",
    "        q202 = q202 + visits['0-2']['phys2']\n",
    "        q237 = q237 + visits['3-7']['phys2']\n",
    "#Calculate queue lengths for physician 1 for each random day\n",
    "        if q102 + q137 <= C1:\n",
    "            q102 = 0\n",
    "            q137 = 0\n",
    "            remainder1 = C1 - (q102 + q137)\n",
    "        elif q137 >= C1:\n",
    "            q137 = q137 - C1\n",
    "            remainder1 = 0\n",
    "        else:\n",
    "            if q102 - (C1 - q137) >= 0:\n",
    "                q102 = q102 - (C1 - q137)\n",
    "                q137 = 0\n",
    "                remainder1 = 0\n",
    "            else:\n",
    "                remainder1 = (q102 - (C1 - q137))*(-1)\n",
    "                q102 = 0\n",
    "#Calculate queue lengths for physician 2 for each random day\n",
    "        if q202 + q237 <= C2:\n",
    "            q202 = 0\n",
    "            q237 = 0\n",
    "            remainder2 = C2 - (q202 + q237)\n",
    "        elif q237 >= C2:\n",
    "            q237 = q237 - C2\n",
    "            remainder2 = 0\n",
    "        else:\n",
    "            if q202 - (C2 - q237) >= 0:\n",
    "                q202 = q202 - (C2 - q237)\n",
    "                q237 = 0\n",
    "                remainder2 = 0\n",
    "            else:\n",
    "                remainder2 = (q202 - (C2 - q237))*(-1)\n",
    "                q202 = 0           \n",
    "#Store that day's queue length at index for day in timeseries matrices \n",
    "        matq102[i] = q102\n",
    "        matq137[i] = q137\n",
    "        matq202[i] = q202\n",
    "        matq237[i] = q237\n",
    "#Return timeseries matrices formatted nicely        \n",
    "    return pd.DataFrame({'phys1:0-2':matq102,'phys1:3-7':matq137,'phys2:0-2':matq202,'phys2:3-7':matq237})"
   ]
  },
  {
   "cell_type": "code",
   "execution_count": 9,
   "metadata": {},
   "outputs": [],
   "source": [
    "#Run simulation for N days with daily appointment slots C1 and C2, where doctors share excess capacity\n",
    "def simulateShared(dailySlots1,dailySlots2,N):\n",
    "#Initialize queue lengths at 0\n",
    "    q102 = 0\n",
    "    q137 = 0\n",
    "    q202 = 0\n",
    "    q237 = 0\n",
    "#Initialize matrices which will hold timeseries of queue lengths at the end of each day       \n",
    "    matq102 = pd.Series([])\n",
    "    matq137 = pd.Series([])\n",
    "    matq202 = pd.Series([])\n",
    "    matq237 = pd.Series([])\n",
    "#Run simulation for N days    \n",
    "    for i in range(N):\n",
    "        visits = appRand().astype(int)\n",
    "#Typecast random appointments to integers, i.e. no such thing as a fraction of an appt        \n",
    "        q102 = q102 + visits['0-2']['phys1']\n",
    "        q137 = q137 + visits['3-7']['phys1']\n",
    "        q202 = q202 + visits['0-2']['phys2']\n",
    "        q237 = q237 + visits['3-7']['phys2']\n",
    "#Calculate queue lengths for physician 1 for each random day\n",
    "        if q102 + q137 <= dailySlots1:\n",
    "            q102 = 0\n",
    "            q137 = 0\n",
    "            remainder1 = dailySlots1 - (q102 + q137)\n",
    "        elif q137 >= dailySlots1:\n",
    "            q137 = q137 - dailySlots1\n",
    "            remainder1 = 0\n",
    "        else:\n",
    "            if q102 - (dailySlots1 - q137) >= 0:\n",
    "                q102 = q102 - (dailySlots1 - q137)\n",
    "                q137 = 0\n",
    "                remainder1 = 0\n",
    "            else:\n",
    "                remainder1 = (q102 - (dailySlots1 - q137))*(-1)\n",
    "                q102 = 0\n",
    "#Calculate queue lengths for physician 2 for each random day\n",
    "        if q202 + q237 <= dailySlots2:\n",
    "            q202 = 0\n",
    "            q237 = 0\n",
    "            remainder2 = dailySlots2 - (q202 + q237)\n",
    "        elif q237 >= dailySlots2:\n",
    "            q237 = q237 - dailySlots2\n",
    "            remainder2 = 0\n",
    "        else:\n",
    "            if q202 - (dailySlots2 - q237) >= 0:\n",
    "                q202 = q202 - (dailySlots2 - q237)\n",
    "                q237 = 0\n",
    "                remainder2 = 0\n",
    "            else:\n",
    "                remainder2 = (q202 - (dailySlots2 - q237))*(-1)\n",
    "                q202 = 0\n",
    "#Calculate shared excess capacity and adjust queue lengths            \n",
    "        if q102 != 0 and remainder2 != 0:\n",
    "            if q102 >= remainder2:\n",
    "                q102 = q102 - remainder2\n",
    "                remainder2 = 0\n",
    "            elif q102 < remainder2:\n",
    "                remainder2 = remainder2 - q102\n",
    "                q102 = 0\n",
    "        elif q202 !=0 and remainder1 != 0:\n",
    "            if q202 >= remainder1:\n",
    "                q202 = q202 - remainder1\n",
    "                remainder2 = 0\n",
    "            elif q202 < remainder1:\n",
    "                remainder1 = remainder1 - q202\n",
    "                q202 = 0   \n",
    "#Store that day's queue length at index for day in timeseries matrices             \n",
    "        matq102[i] = q102\n",
    "        matq137[i] = q137\n",
    "        matq202[i] = q202\n",
    "        matq237[i] = q237\n",
    "#Return timeseries matrices formatted nicely                \n",
    "    return pd.DataFrame({'phys1:0-2':matq102,'phys1:3-7':matq137,'phys2:0-2':matq202,'phys2:3-7':matq237})"
   ]
  },
  {
   "cell_type": "code",
   "execution_count": 10,
   "metadata": {},
   "outputs": [
    {
     "name": "stdout",
     "output_type": "stream",
     "text": [
      "Simulation\n"
     ]
    },
    {
     "data": {
      "text/plain": [
       "<matplotlib.figure.Figure at 0x7f201541bb00>"
      ]
     },
     "metadata": {},
     "output_type": "display_data"
    },
    {
     "data": {
      "image/png": "[encoded data removed]",
      "text/plain": [
       "<matplotlib.figure.Figure at 0x7f201536b1d0>"
      ]
     },
     "metadata": {},
     "output_type": "display_data"
    },
    {
     "name": "stdout",
     "output_type": "stream",
     "text": [
      "Maximum Queue Length\n",
      "\n",
      "phys1:0-2    12\n",
      "phys1:3-7     0\n",
      "phys2:0-2    16\n",
      "phys2:3-7     3\n",
      "dtype: int64\n",
      "\n",
      "Average Queue Length\n",
      "\n",
      "phys1:0-2    1.184\n",
      "phys1:3-7    0.000\n",
      "phys2:0-2    2.034\n",
      "phys2:3-7    0.006\n",
      "dtype: float64\n",
      "\n",
      "90th Percentile\n",
      "\n",
      "phys1:0-2    4.0\n",
      "phys1:3-7    0.0\n",
      "phys2:0-2    7.0\n",
      "phys2:3-7    0.0\n",
      "dtype: float64\n",
      "Shared Simulation\n"
     ]
    },
    {
     "data": {
      "text/plain": [
       "<matplotlib.figure.Figure at 0x7f201530ef60>"
      ]
     },
     "metadata": {},
     "output_type": "display_data"
    },
    {
     "data": {
      "image/png": "[encoded data removed]",
      "text/plain": [
       "<matplotlib.figure.Figure at 0x7f2014ac1da0>"
      ]
     },
     "metadata": {},
     "output_type": "display_data"
    },
    {
     "name": "stdout",
     "output_type": "stream",
     "text": [
      "Maximum Queue Length\n",
      "\n",
      "phys1:0-2     9\n",
      "phys1:3-7     2\n",
      "phys2:0-2    11\n",
      "phys2:3-7     0\n",
      "dtype: int64\n",
      "\n",
      "Average Queue Length\n",
      "\n",
      "phys1:0-2    0.122\n",
      "phys1:3-7    0.004\n",
      "phys2:0-2    0.122\n",
      "phys2:3-7    0.000\n",
      "dtype: float64\n",
      "\n",
      "90th Percentile\n",
      "\n",
      "phys1:0-2    0.0\n",
      "phys1:3-7    0.0\n",
      "phys2:0-2    0.0\n",
      "phys2:3-7    0.0\n",
      "dtype: float64\n"
     ]
    }
   ],
   "source": [
    "#Outputs for simulations C1 = 31, C2 = 32, N = 500\n",
    "print(\"Simulation\")\n",
    "print()\n",
    "simOutput(simulate(31,32,500))\n",
    "print()\n",
    "print(\"Shared Simulation\")\n",
    "print()\n",
    "simOutput(simulateShared(31,32,500))"
   ]
  },
  {
   "cell_type": "code",
   "execution_count": null,
   "metadata": {},
   "outputs": [],
   "source": []
  },
  {
   "cell_type": "code",
   "execution_count": null,
   "metadata": {},
   "outputs": [],
   "source": []
  },
  {
   "cell_type": "code",
   "execution_count": null,
   "metadata": {},
   "outputs": [],
   "source": []
  }
 ],
 "metadata": {
  "kernel_info": {
   "name": "python2"
  },
  "kernelspec": {
   "display_name": "Python 3",
   "language": "python",
   "name": "python3"
  },
  "language_info": {
   "codemirror_mode": {
    "name": "ipython",
    "version": 3
   },
   "file_extension": ".py",
   "mimetype": "text/x-python",
   "name": "python",
   "nbconvert_exporter": "python",
   "pygments_lexer": "ipython3",
   "version": "3.5.2"
  },
  "nteract": {
   "version": "0.7.1"
  }
 },
 "nbformat": 4,
 "nbformat_minor": 2
}
