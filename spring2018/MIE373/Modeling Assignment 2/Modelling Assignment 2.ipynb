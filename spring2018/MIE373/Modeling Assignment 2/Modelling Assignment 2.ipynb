{
 "cells": [
  {
   "cell_type": "code",
   "execution_count": 46,
   "metadata": {},
   "outputs": [],
   "source": [
    "import pandas as pd\n",
    "import numpy as np"
   ]
  },
  {
   "cell_type": "code",
   "execution_count": 94,
   "metadata": {},
   "outputs": [],
   "source": [
    "ERE = pd.read_csv('ERE.csv')\n",
    "ERE = ERE.drop(columns=['Unnamed: 0'])\n",
    "\n",
    "HHE = pd.read_csv('HHE.csv')\n",
    "HHE = HHE.drop(columns=['Unnamed: 0'])\n",
    "\n",
    "HIE = pd.read_csv('HIE.csv')\n",
    "HIE = HIE.drop(columns=['Unnamed: 0'])\n",
    "\n",
    "OBE = pd.read_csv('OBE.csv')\n",
    "OBE = OBE.drop(columns=['Unnamed: 0'])\n",
    "\n",
    "OPE = pd.read_csv('OPE.csv')\n",
    "OPE = OPE.drop(columns=['Unnamed: 0'])"
   ]
  },
  {
   "cell_type": "code",
   "execution_count": 110,
   "metadata": {},
   "outputs": [
    {
     "name": "stdout",
     "output_type": "stream",
     "text": [
      "5\n"
     ]
    }
   ],
   "source": [
    "test = pd.Series(np.histogram(ERE['DoY'],bins=52,range=(1,365))[0])\n",
    "print(test[0])"
   ]
  },
  {
   "cell_type": "code",
   "execution_count": null,
   "metadata": {},
   "outputs": [],
   "source": []
  }
 ],
 "metadata": {
  "kernelspec": {
   "display_name": "Python 3",
   "language": "python",
   "name": "python3"
  },
  "language_info": {
   "codemirror_mode": {
    "name": "ipython",
    "version": 3
   },
   "file_extension": ".py",
   "mimetype": "text/x-python",
   "name": "python",
   "nbconvert_exporter": "python",
   "pygments_lexer": "ipython3",
   "version": "3.5.2"
  }
 },
 "nbformat": 4,
 "nbformat_minor": 2
}
