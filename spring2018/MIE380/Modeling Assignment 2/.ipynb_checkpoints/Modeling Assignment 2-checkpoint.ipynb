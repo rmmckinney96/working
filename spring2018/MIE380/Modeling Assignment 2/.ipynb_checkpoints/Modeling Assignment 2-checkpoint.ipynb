{
 "cells": [
  {
   "cell_type": "code",
   "execution_count": 55,
   "metadata": {},
   "outputs": [],
   "source": [
    "import numpy as np\n",
    "import pandas as pd"
   ]
  },
  {
   "cell_type": "code",
   "execution_count": 56,
   "metadata": {},
   "outputs": [],
   "source": [
    "clay = pd.read_csv('putty.csv')\n",
    "clay = clay.drop(['caseid'],axis=1)\n",
    "eightnine = np.zeros((19,19))\n",
    "onetwo = np.zeros((19,19))\n",
    "fivesix = np.zeros((19,19))"
   ]
  },
  {
   "cell_type": "code",
   "execution_count": null,
   "metadata": {},
   "outputs": [],
   "source": [
    "for index in range(len(clay)):\n",
    "    for i in range(len(eightnine)):\n",
    "        for j in range(len(eightnine)):\n",
    "            if ((clay['0800'][index] == i) and (clay['0900'][index] == j)):\n",
    "                eightnine[i][j] = eightnine[i][j] + 1\n",
    "            if ((clay['1300'][index] == i) and (clay['1400'][index] == j)):\n",
    "                onetwo[i][j] = onetwo[i][j] + 1\n",
    "            if ((clay['1700'][index] == i) and (clay['1800'][index] == j)):\n",
    "                fivesix[i][j] = fivesix[i][j] + 1"
   ]
  },
  {
   "cell_type": "code",
   "execution_count": null,
   "metadata": {},
   "outputs": [],
   "source": [
    "eightnine = pd.DataFrame(eightnine)\n",
    "eightnine = eightnine.drop([0],axis=1)\n",
    "eightnine = eightnine.drop([0],axis=0)\n",
    "\n",
    "onetwo = pd.DataFrame(onetwo)\n",
    "onetwo = onetwo.drop([0],axis=1)\n",
    "onetwo = onetwo.drop([0],axis=0)\n",
    "\n",
    "fivesix = pd.DataFrame(fivesix)\n",
    "fivesix = fivesix.drop([0],axis=1)\n",
    "fivesix = fivesix.drop([0],axis=0)"
   ]
  },
  {
   "cell_type": "code",
   "execution_count": null,
   "metadata": {},
   "outputs": [],
   "source": [
    "print(eightnine)\n",
    "print(onetwo)\n",
    "print(fivesix)"
   ]
  },
  {
   "cell_type": "code",
   "execution_count": null,
   "metadata": {},
   "outputs": [],
   "source": []
  }
 ],
 "metadata": {
  "kernelspec": {
   "display_name": "Python 3",
   "language": "python",
   "name": "python3"
  },
  "language_info": {
   "codemirror_mode": {
    "name": "ipython",
    "version": 3
   },
   "file_extension": ".py",
   "mimetype": "text/x-python",
   "name": "python",
   "nbconvert_exporter": "python",
   "pygments_lexer": "ipython3",
   "version": "3.5.2"
  }
 },
 "nbformat": 4,
 "nbformat_minor": 2
}
