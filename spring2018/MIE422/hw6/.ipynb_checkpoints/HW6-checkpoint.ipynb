{
 "cells": [
  {
   "cell_type": "code",
   "execution_count": 2,
   "metadata": {},
   "outputs": [
    {
     "data": {
      "text/html": [
       "<table>\n",
       "<thead><tr><th scope=col>Sample</th><th scope=col>Number.of.Dissatisfied.Customers</th></tr></thead>\n",
       "<tbody>\n",
       "\t<tr><td> 1</td><td> 2</td></tr>\n",
       "\t<tr><td> 2</td><td> 5</td></tr>\n",
       "\t<tr><td> 3</td><td> 4</td></tr>\n",
       "\t<tr><td> 4</td><td> 3</td></tr>\n",
       "\t<tr><td> 5</td><td> 4</td></tr>\n",
       "\t<tr><td> 6</td><td> 2</td></tr>\n",
       "\t<tr><td> 7</td><td> 3</td></tr>\n",
       "\t<tr><td> 8</td><td> 2</td></tr>\n",
       "\t<tr><td> 9</td><td> 4</td></tr>\n",
       "\t<tr><td>10</td><td>11</td></tr>\n",
       "\t<tr><td>11</td><td> 5</td></tr>\n",
       "\t<tr><td>12</td><td> 4</td></tr>\n",
       "\t<tr><td>13</td><td> 2</td></tr>\n",
       "\t<tr><td>14</td><td> 5</td></tr>\n",
       "\t<tr><td>15</td><td> 3</td></tr>\n",
       "\t<tr><td>16</td><td>12</td></tr>\n",
       "\t<tr><td>17</td><td> 3</td></tr>\n",
       "\t<tr><td>18</td><td> 2</td></tr>\n",
       "\t<tr><td>19</td><td> 5</td></tr>\n",
       "\t<tr><td>20</td><td> 2</td></tr>\n",
       "</tbody>\n",
       "</table>\n"
      ],
      "text/latex": [
       "\\begin{tabular}{r|ll}\n",
       " Sample & Number.of.Dissatisfied.Customers\\\\\n",
       "\\hline\n",
       "\t  1 &  2\\\\\n",
       "\t  2 &  5\\\\\n",
       "\t  3 &  4\\\\\n",
       "\t  4 &  3\\\\\n",
       "\t  5 &  4\\\\\n",
       "\t  6 &  2\\\\\n",
       "\t  7 &  3\\\\\n",
       "\t  8 &  2\\\\\n",
       "\t  9 &  4\\\\\n",
       "\t 10 & 11\\\\\n",
       "\t 11 &  5\\\\\n",
       "\t 12 &  4\\\\\n",
       "\t 13 &  2\\\\\n",
       "\t 14 &  5\\\\\n",
       "\t 15 &  3\\\\\n",
       "\t 16 & 12\\\\\n",
       "\t 17 &  3\\\\\n",
       "\t 18 &  2\\\\\n",
       "\t 19 &  5\\\\\n",
       "\t 20 &  2\\\\\n",
       "\\end{tabular}\n"
      ],
      "text/markdown": [
       "\n",
       "Sample | Number.of.Dissatisfied.Customers | \n",
       "|---|---|---|---|---|---|---|---|---|---|---|---|---|---|---|---|---|---|---|---|\n",
       "|  1 |  2 | \n",
       "|  2 |  5 | \n",
       "|  3 |  4 | \n",
       "|  4 |  3 | \n",
       "|  5 |  4 | \n",
       "|  6 |  2 | \n",
       "|  7 |  3 | \n",
       "|  8 |  2 | \n",
       "|  9 |  4 | \n",
       "| 10 | 11 | \n",
       "| 11 |  5 | \n",
       "| 12 |  4 | \n",
       "| 13 |  2 | \n",
       "| 14 |  5 | \n",
       "| 15 |  3 | \n",
       "| 16 | 12 | \n",
       "| 17 |  3 | \n",
       "| 18 |  2 | \n",
       "| 19 |  5 | \n",
       "| 20 |  2 | \n",
       "\n",
       "\n"
      ],
      "text/plain": [
       "   Sample Number.of.Dissatisfied.Customers\n",
       "1   1      2                              \n",
       "2   2      5                              \n",
       "3   3      4                              \n",
       "4   4      3                              \n",
       "5   5      4                              \n",
       "6   6      2                              \n",
       "7   7      3                              \n",
       "8   8      2                              \n",
       "9   9      4                              \n",
       "10 10     11                              \n",
       "11 11      5                              \n",
       "12 12      4                              \n",
       "13 13      2                              \n",
       "14 14      5                              \n",
       "15 15      3                              \n",
       "16 16     12                              \n",
       "17 17      3                              \n",
       "18 18      2                              \n",
       "19 19      5                              \n",
       "20 20      2                              "
      ]
     },
     "metadata": {},
     "output_type": "display_data"
    }
   ],
   "source": [
    "Q2 <- read.csv('HW6Q2.csv', header = TRUE)\n",
    "Q3 <- read.csv('HW6Q3.csv', header = TRUE)"
   ]
  },
  {
   "cell_type": "code",
   "execution_count": null,
   "metadata": {},
   "outputs": [],
   "source": []
  }
 ],
 "metadata": {
  "kernelspec": {
   "display_name": "R",
   "language": "R",
   "name": "ir"
  },
  "language_info": {
   "codemirror_mode": "r",
   "file_extension": ".r",
   "mimetype": "text/x-r-source",
   "name": "R",
   "pygments_lexer": "r",
   "version": "3.2.3"
  }
 },
 "nbformat": 4,
 "nbformat_minor": 2
}
