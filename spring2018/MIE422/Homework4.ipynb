{
 "cells": [
  {
   "cell_type": "markdown",
   "metadata": {},
   "source": [
    "## Avi Gundimeda"
   ]
  },
  {
   "cell_type": "markdown",
   "metadata": {},
   "source": [
    "## 1. "
   ]
  },
  {
   "cell_type": "markdown",
   "metadata": {},
   "source": [
    "#### Common causes are inherent to the process and cyclic. \n",
    "* As a machine gets older, it gets less precise predictably \n",
    "\n",
    "#### Special causes are sporadic and unpredictable. \n",
    "* Unusual stress causes a part in the machine to break\n"
   ]
  },
  {
   "cell_type": "markdown",
   "metadata": {},
   "source": [
    "## 2. "
   ]
  },
  {
   "cell_type": "markdown",
   "metadata": {},
   "source": [
    "#### Over time, a sensor for a certain parameter becomes uncalibrated\n",
    "#### A hole punch is deformed with each press, creating a larger hole each time"
   ]
  },
  {
   "cell_type": "markdown",
   "metadata": {},
   "source": [
    "## 3."
   ]
  },
  {
   "cell_type": "markdown",
   "metadata": {},
   "source": [
    "a. \n",
    "* k = 1: ()\n",
    "* k = 2: ()\n",
    "\n",
    "b. \n",
    "* k = 3: ()\n",
    "\n",
    "c.\n",
    "* sdf\n",
    "\n",
    "d.\n",
    "* sdf\n",
    "\n",
    "e.\n",
    "* sdf"
   ]
  },
  {
   "cell_type": "markdown",
   "metadata": {},
   "source": [
    "## 4."
   ]
  },
  {
   "cell_type": "markdown",
   "metadata": {},
   "source": [
    "a.\n",
    "* k = 3: ()\n",
    "\n",
    "b. ()\n",
    "* \n",
    "\n",
    "c.\n",
    "* \n",
    "\n",
    "d.\n",
    "* "
   ]
  },
  {
   "cell_type": "markdown",
   "metadata": {},
   "source": [
    "## 5."
   ]
  },
  {
   "cell_type": "code",
   "execution_count": null,
   "metadata": {},
   "outputs": [],
   "source": []
  }
 ],
 "metadata": {
  "kernelspec": {
   "display_name": "R",
   "language": "R",
   "name": "ir"
  },
  "language_info": {
   "codemirror_mode": "r",
   "file_extension": ".r",
   "mimetype": "text/x-r-source",
   "name": "R",
   "pygments_lexer": "r",
   "version": "3.2.3"
  }
 },
 "nbformat": 4,
 "nbformat_minor": 2
}
