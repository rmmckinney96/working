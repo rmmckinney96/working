{
 "cells": [
  {
   "cell_type": "code",
   "execution_count": 2,
   "metadata": {},
   "outputs": [],
   "source": [
    "Q2 <- read.csv('R2Q2.csv', header = TRUE)\n",
    "Q3 <- read.csv('R2Q3.csv', header = TRUE)"
   ]
  },
  {
   "cell_type": "code",
   "execution_count": 12,
   "metadata": {},
   "outputs": [
    {
     "data": {
      "text/html": [
       "<table>\n",
       "<thead><tr><th scope=col>Sample</th><th scope=col>Number.Inspected</th><th scope=col>Number.of.Nonconforming.Tiles</th></tr></thead>\n",
       "<tbody>\n",
       "\t<tr><td> 1 </td><td>200</td><td>14 </td></tr>\n",
       "\t<tr><td> 2 </td><td>180</td><td>10 </td></tr>\n",
       "\t<tr><td> 3 </td><td>200</td><td>17 </td></tr>\n",
       "\t<tr><td> 4 </td><td>120</td><td> 8 </td></tr>\n",
       "\t<tr><td> 5 </td><td>300</td><td>20 </td></tr>\n",
       "\t<tr><td> 6 </td><td>250</td><td>18 </td></tr>\n",
       "\t<tr><td> 7 </td><td>400</td><td>25 </td></tr>\n",
       "\t<tr><td> 8 </td><td>180</td><td>20 </td></tr>\n",
       "\t<tr><td> 9 </td><td>210</td><td>27 </td></tr>\n",
       "\t<tr><td>10 </td><td>380</td><td>30 </td></tr>\n",
       "\t<tr><td>11 </td><td>190</td><td>15 </td></tr>\n",
       "\t<tr><td>12 </td><td>380</td><td>26 </td></tr>\n",
       "\t<tr><td>13 </td><td>200</td><td>10 </td></tr>\n",
       "\t<tr><td>14 </td><td>210</td><td>14 </td></tr>\n",
       "\t<tr><td>15 </td><td>390</td><td>24 </td></tr>\n",
       "\t<tr><td>16 </td><td>120</td><td>15 </td></tr>\n",
       "\t<tr><td>17 </td><td>190</td><td>18 </td></tr>\n",
       "\t<tr><td>18 </td><td>380</td><td>19 </td></tr>\n",
       "\t<tr><td>19 </td><td>200</td><td>11 </td></tr>\n",
       "\t<tr><td>20 </td><td>180</td><td>12 </td></tr>\n",
       "</tbody>\n",
       "</table>\n"
      ],
      "text/latex": [
       "\\begin{tabular}{r|lll}\n",
       " Sample & Number.Inspected & Number.of.Nonconforming.Tiles\\\\\n",
       "\\hline\n",
       "\t  1  & 200 & 14 \\\\\n",
       "\t  2  & 180 & 10 \\\\\n",
       "\t  3  & 200 & 17 \\\\\n",
       "\t  4  & 120 &  8 \\\\\n",
       "\t  5  & 300 & 20 \\\\\n",
       "\t  6  & 250 & 18 \\\\\n",
       "\t  7  & 400 & 25 \\\\\n",
       "\t  8  & 180 & 20 \\\\\n",
       "\t  9  & 210 & 27 \\\\\n",
       "\t 10  & 380 & 30 \\\\\n",
       "\t 11  & 190 & 15 \\\\\n",
       "\t 12  & 380 & 26 \\\\\n",
       "\t 13  & 200 & 10 \\\\\n",
       "\t 14  & 210 & 14 \\\\\n",
       "\t 15  & 390 & 24 \\\\\n",
       "\t 16  & 120 & 15 \\\\\n",
       "\t 17  & 190 & 18 \\\\\n",
       "\t 18  & 380 & 19 \\\\\n",
       "\t 19  & 200 & 11 \\\\\n",
       "\t 20  & 180 & 12 \\\\\n",
       "\\end{tabular}\n"
      ],
      "text/markdown": [
       "\n",
       "Sample | Number.Inspected | Number.of.Nonconforming.Tiles | \n",
       "|---|---|---|---|---|---|---|---|---|---|---|---|---|---|---|---|---|---|---|---|\n",
       "|  1  | 200 | 14  | \n",
       "|  2  | 180 | 10  | \n",
       "|  3  | 200 | 17  | \n",
       "|  4  | 120 |  8  | \n",
       "|  5  | 300 | 20  | \n",
       "|  6  | 250 | 18  | \n",
       "|  7  | 400 | 25  | \n",
       "|  8  | 180 | 20  | \n",
       "|  9  | 210 | 27  | \n",
       "| 10  | 380 | 30  | \n",
       "| 11  | 190 | 15  | \n",
       "| 12  | 380 | 26  | \n",
       "| 13  | 200 | 10  | \n",
       "| 14  | 210 | 14  | \n",
       "| 15  | 390 | 24  | \n",
       "| 16  | 120 | 15  | \n",
       "| 17  | 190 | 18  | \n",
       "| 18  | 380 | 19  | \n",
       "| 19  | 200 | 11  | \n",
       "| 20  | 180 | 12  | \n",
       "\n",
       "\n"
      ],
      "text/plain": [
       "   Sample Number.Inspected Number.of.Nonconforming.Tiles\n",
       "1   1     200              14                           \n",
       "2   2     180              10                           \n",
       "3   3     200              17                           \n",
       "4   4     120               8                           \n",
       "5   5     300              20                           \n",
       "6   6     250              18                           \n",
       "7   7     400              25                           \n",
       "8   8     180              20                           \n",
       "9   9     210              27                           \n",
       "10 10     380              30                           \n",
       "11 11     190              15                           \n",
       "12 12     380              26                           \n",
       "13 13     200              10                           \n",
       "14 14     210              14                           \n",
       "15 15     390              24                           \n",
       "16 16     120              15                           \n",
       "17 17     190              18                           \n",
       "18 18     380              19                           \n",
       "19 19     200              11                           \n",
       "20 20     180              12                           "
      ]
     },
     "metadata": {},
     "output_type": "display_data"
    }
   ],
   "source": [
    "Q2"
   ]
  },
  {
   "cell_type": "code",
   "execution_count": null,
   "metadata": {},
   "outputs": [],
   "source": []
  },
  {
   "cell_type": "code",
   "execution_count": null,
   "metadata": {},
   "outputs": [],
   "source": []
  }
 ],
 "metadata": {
  "kernelspec": {
   "display_name": "R",
   "language": "R",
   "name": "ir"
  },
  "language_info": {
   "codemirror_mode": "r",
   "file_extension": ".r",
   "mimetype": "text/x-r-source",
   "name": "R",
   "pygments_lexer": "r",
   "version": "3.2.3"
  }
 },
 "nbformat": 4,
 "nbformat_minor": 2
}
