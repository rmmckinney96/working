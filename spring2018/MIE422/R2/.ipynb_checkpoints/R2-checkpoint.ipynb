{
 "cells": [
  {
   "cell_type": "markdown",
   "metadata": {},
   "source": [
    "# R Assignment 2"
   ]
  },
  {
   "cell_type": "markdown",
   "metadata": {},
   "source": [
    "# Problem 1"
   ]
  },
  {
   "cell_type": "code",
   "execution_count": 48,
   "metadata": {},
   "outputs": [],
   "source": [
    "rm(list=ls())\n",
    "# Data\n",
    "Xbarsum = 195\n",
    "Rsum = 10\n",
    "g = 25\n",
    "Xbarbar = Xbarsum/g\n",
    "Rbar = Rsum/g\n",
    "Xusl = 8\n",
    "Xlsl = 7\n",
    "\n",
    "# Coeffecients\n",
    "A2 = 0.153\n",
    "D4 = 1.541\n",
    "D3 = 0.459\n",
    "D2 = 3.931\n",
    "\n",
    "# X & R Charts Control Limits\n",
    "Xucl = Xbarbar + (A2*Rbar)\n",
    "Xlcl = Xbarbar - (A2*Rbar)\n",
    "\n",
    "Rucl = D4*Rbar\n",
    "Rlcl = D3*Rbar\n",
    " \n",
    "sig = Rbar/D2\n",
    "\n",
    "# 1 sigma Control Limit (X chart)\n",
    "Xucl1 = Xbarbar + 1*sig\n",
    "Xlcl1 = Xbarbar - 1*sig\n",
    "\n",
    "# 2 sigma Control Limit (X chart)\n",
    "Xucl2 = Xbarbar + 2*sig\n",
    "Xlcl2 = Xbarbar - 2*sig\n",
    "\n",
    "#Proportion non-conforming (2 sigma Control Limit only)\n",
    "\n",
    "propNonConf = pnorm(Xucl2,Xbarbar,sig) - pnorm(Xusl,Xbarbar,sig)"
   ]
  },
  {
   "cell_type": "code",
   "execution_count": 49,
   "metadata": {},
   "outputs": [
    {
     "name": "stdout",
     "output_type": "stream",
     "text": [
      "[1] \"X-chart\"\n",
      "[1] 7.8612\n",
      "[1] 7.8\n",
      "[1] 7.7388\n",
      "[1] \"R-chart Control Limits\"\n",
      "[1] 0.6164\n",
      "[1] 0.4\n",
      "[1] 0.1836\n",
      "[1] \"X-chart 1 sigma Control Limits\"\n",
      "[1] 7.901755\n",
      "[1] 7.8\n",
      "[1] 7.698245\n",
      "[1] \"X-chart 2 sigma Control Limits\"\n",
      "[1] 8.003511\n",
      "[1] 7.8\n",
      "[1] 7.596489\n",
      "[1] \"Proportion non-conforming (2 sigma Control Limit only)\"\n",
      "[1] 0.001928066\n"
     ]
    }
   ],
   "source": [
    "print('X-chart')\n",
    "print(Xucl)\n",
    "print(Xbarbar)\n",
    "print(Xlcl)\n",
    "print('R-chart Control Limits')\n",
    "print(Rucl)\n",
    "print(Rbar)\n",
    "print(Rlcl)\n",
    "print('X-chart 1 sigma Control Limits')\n",
    "print(Xucl1)\n",
    "print(Xbarbar)\n",
    "print(Xlcl1)\n",
    "print('X-chart 2 sigma Control Limits')\n",
    "print(Xucl2)\n",
    "print(Xbarbar)\n",
    "print(Xlcl2)\n",
    "print('Proportion non-conforming (2 sigma Control Limit only)')\n",
    "print(propNonConf)"
   ]
  },
  {
   "cell_type": "markdown",
   "metadata": {},
   "source": [
    "# Problem 2"
   ]
  },
  {
   "cell_type": "code",
   "execution_count": 50,
   "metadata": {},
   "outputs": [],
   "source": [
    "rm(list=ls())\n",
    "Q2 <- read.csv('R2Q2.csv', header = TRUE)"
   ]
  },
  {
   "cell_type": "markdown",
   "metadata": {},
   "source": [
    "# Problem 3"
   ]
  },
  {
   "cell_type": "code",
   "execution_count": 47,
   "metadata": {},
   "outputs": [
    {
     "data": {
      "text/html": [
       "<table>\n",
       "<thead><tr><th scope=col>Observation</th><th scope=col>Bills.with.Errors</th><th scope=col>Number.Sampled</th></tr></thead>\n",
       "<tbody>\n",
       "\t<tr><td> 1 </td><td> 8 </td><td>400</td></tr>\n",
       "\t<tr><td> 2 </td><td> 6 </td><td>400</td></tr>\n",
       "\t<tr><td> 3 </td><td> 4 </td><td>400</td></tr>\n",
       "\t<tr><td> 4 </td><td> 9 </td><td>400</td></tr>\n",
       "\t<tr><td> 5 </td><td> 7 </td><td>400</td></tr>\n",
       "\t<tr><td> 6 </td><td> 5 </td><td>400</td></tr>\n",
       "\t<tr><td> 7 </td><td> 5 </td><td>300</td></tr>\n",
       "\t<tr><td> 8 </td><td> 7 </td><td>300</td></tr>\n",
       "\t<tr><td> 9 </td><td> 4 </td><td>300</td></tr>\n",
       "\t<tr><td>10 </td><td>15 </td><td>300</td></tr>\n",
       "\t<tr><td>11 </td><td> 6 </td><td>300</td></tr>\n",
       "\t<tr><td>12 </td><td> 7 </td><td>300</td></tr>\n",
       "\t<tr><td>13 </td><td> 4 </td><td>300</td></tr>\n",
       "\t<tr><td>14 </td><td> 3 </td><td>300</td></tr>\n",
       "\t<tr><td>15 </td><td> 5 </td><td>300</td></tr>\n",
       "\t<tr><td>16 </td><td> 8 </td><td>300</td></tr>\n",
       "\t<tr><td>17 </td><td>11 </td><td>500</td></tr>\n",
       "\t<tr><td>18 </td><td>13 </td><td>500</td></tr>\n",
       "\t<tr><td>19 </td><td> 8 </td><td>500</td></tr>\n",
       "\t<tr><td>20 </td><td> 7 </td><td>500</td></tr>\n",
       "\t<tr><td>21 </td><td> 8 </td><td>500</td></tr>\n",
       "\t<tr><td>22 </td><td> 4 </td><td>500</td></tr>\n",
       "\t<tr><td>23 </td><td> 3 </td><td>500</td></tr>\n",
       "\t<tr><td>24 </td><td> 7 </td><td>500</td></tr>\n",
       "\t<tr><td>25 </td><td> 6 </td><td>500</td></tr>\n",
       "</tbody>\n",
       "</table>\n"
      ],
      "text/latex": [
       "\\begin{tabular}{r|lll}\n",
       " Observation & Bills.with.Errors & Number.Sampled\\\\\n",
       "\\hline\n",
       "\t  1  &  8  & 400\\\\\n",
       "\t  2  &  6  & 400\\\\\n",
       "\t  3  &  4  & 400\\\\\n",
       "\t  4  &  9  & 400\\\\\n",
       "\t  5  &  7  & 400\\\\\n",
       "\t  6  &  5  & 400\\\\\n",
       "\t  7  &  5  & 300\\\\\n",
       "\t  8  &  7  & 300\\\\\n",
       "\t  9  &  4  & 300\\\\\n",
       "\t 10  & 15  & 300\\\\\n",
       "\t 11  &  6  & 300\\\\\n",
       "\t 12  &  7  & 300\\\\\n",
       "\t 13  &  4  & 300\\\\\n",
       "\t 14  &  3  & 300\\\\\n",
       "\t 15  &  5  & 300\\\\\n",
       "\t 16  &  8  & 300\\\\\n",
       "\t 17  & 11  & 500\\\\\n",
       "\t 18  & 13  & 500\\\\\n",
       "\t 19  &  8  & 500\\\\\n",
       "\t 20  &  7  & 500\\\\\n",
       "\t 21  &  8  & 500\\\\\n",
       "\t 22  &  4  & 500\\\\\n",
       "\t 23  &  3  & 500\\\\\n",
       "\t 24  &  7  & 500\\\\\n",
       "\t 25  &  6  & 500\\\\\n",
       "\\end{tabular}\n"
      ],
      "text/markdown": [
       "\n",
       "Observation | Bills.with.Errors | Number.Sampled | \n",
       "|---|---|---|---|---|---|---|---|---|---|---|---|---|---|---|---|---|---|---|---|---|---|---|---|---|\n",
       "|  1  |  8  | 400 | \n",
       "|  2  |  6  | 400 | \n",
       "|  3  |  4  | 400 | \n",
       "|  4  |  9  | 400 | \n",
       "|  5  |  7  | 400 | \n",
       "|  6  |  5  | 400 | \n",
       "|  7  |  5  | 300 | \n",
       "|  8  |  7  | 300 | \n",
       "|  9  |  4  | 300 | \n",
       "| 10  | 15  | 300 | \n",
       "| 11  |  6  | 300 | \n",
       "| 12  |  7  | 300 | \n",
       "| 13  |  4  | 300 | \n",
       "| 14  |  3  | 300 | \n",
       "| 15  |  5  | 300 | \n",
       "| 16  |  8  | 300 | \n",
       "| 17  | 11  | 500 | \n",
       "| 18  | 13  | 500 | \n",
       "| 19  |  8  | 500 | \n",
       "| 20  |  7  | 500 | \n",
       "| 21  |  8  | 500 | \n",
       "| 22  |  4  | 500 | \n",
       "| 23  |  3  | 500 | \n",
       "| 24  |  7  | 500 | \n",
       "| 25  |  6  | 500 | \n",
       "\n",
       "\n"
      ],
      "text/plain": [
       "   Observation Bills.with.Errors Number.Sampled\n",
       "1   1           8                400           \n",
       "2   2           6                400           \n",
       "3   3           4                400           \n",
       "4   4           9                400           \n",
       "5   5           7                400           \n",
       "6   6           5                400           \n",
       "7   7           5                300           \n",
       "8   8           7                300           \n",
       "9   9           4                300           \n",
       "10 10          15                300           \n",
       "11 11           6                300           \n",
       "12 12           7                300           \n",
       "13 13           4                300           \n",
       "14 14           3                300           \n",
       "15 15           5                300           \n",
       "16 16           8                300           \n",
       "17 17          11                500           \n",
       "18 18          13                500           \n",
       "19 19           8                500           \n",
       "20 20           7                500           \n",
       "21 21           8                500           \n",
       "22 22           4                500           \n",
       "23 23           3                500           \n",
       "24 24           7                500           \n",
       "25 25           6                500           "
      ]
     },
     "metadata": {},
     "output_type": "display_data"
    }
   ],
   "source": [
    "rm(list=ls())\n",
    "Q3 <- read.csv('R2Q3.csv', header = TRUE)\n",
    "Q3"
   ]
  },
  {
   "cell_type": "code",
   "execution_count": null,
   "metadata": {},
   "outputs": [],
   "source": []
  },
  {
   "cell_type": "code",
   "execution_count": null,
   "metadata": {},
   "outputs": [],
   "source": []
  },
  {
   "cell_type": "code",
   "execution_count": null,
   "metadata": {},
   "outputs": [],
   "source": []
  },
  {
   "cell_type": "code",
   "execution_count": null,
   "metadata": {},
   "outputs": [],
   "source": []
  }
 ],
 "metadata": {
  "kernelspec": {
   "display_name": "R",
   "language": "R",
   "name": "ir"
  },
  "language_info": {
   "codemirror_mode": "r",
   "file_extension": ".r",
   "mimetype": "text/x-r-source",
   "name": "R",
   "pygments_lexer": "r",
   "version": "3.2.3"
  }
 },
 "nbformat": 4,
 "nbformat_minor": 2
}
