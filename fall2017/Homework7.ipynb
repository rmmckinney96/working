{
 "cells": [
  {
   "cell_type": "code",
   "execution_count": 1,
   "metadata": {},
   "outputs": [],
   "source": [
    "import numpy as np"
   ]
  },
  {
   "cell_type": "code",
   "execution_count": 2,
   "metadata": {},
   "outputs": [],
   "source": [
    "onea = np.array([[3,-1,2,7],[-2,4,0,12],[-4,3,8,10],[-1,3,-2,0]]).T\n",
    "#x=b1;y=b2; two = np.array([[1,-5,-6,x],[1,5,2,y],[5,2,3,0]]).T\n",
    "four1 = np.array([[-2,2,0,1,3],[-2,1,1,0,2],[30,-10,0,0,0]])\n",
    "four2 = np.array([[-1,0,1,-.5,0.5],[-1,1,0,0.5,1.5],[20,0,0,5,15]])\n",
    "six1 = np.matrix([[0.5,-.25,0],[0,0.5,0],[-2,1,1]])\n",
    "six2 = np.matrix([[430],[480],[400]])"
   ]
  },
  {
   "cell_type": "code",
   "execution_count": 3,
   "metadata": {},
   "outputs": [
    {
     "name": "stdout",
     "output_type": "stream",
     "text": [
      "1. a) (Z is the last row)\n"
     ]
    },
    {
     "data": {
      "text/plain": [
       "array([[ 3, -2, -4, -1],\n",
       "       [-1,  4,  3,  3],\n",
       "       [ 2,  0,  8, -2],\n",
       "       [ 7, 12, 10,  0]])"
      ]
     },
     "metadata": {},
     "output_type": "display_data"
    },
    {
     "name": "stdout",
     "output_type": "stream",
     "text": [
      "1. b)\n",
      "\n",
      "The resource to change would be the RHS of the third constraints, as the surplus x6 has value and is in the basis. \n",
      "\n",
      "1. c)\n",
      "\n",
      "This constraint can be decreased by 11 before affecting feasibility.\n"
     ]
    }
   ],
   "source": [
    "print('1. a) (Z is the last row)')\n",
    "display(onea)\n",
    "print('1. b)')\n",
    "print()\n",
    "print('The resource to change would be the RHS of the third constraints, as the surplus x6 has value and is in the basis. ')\n",
    "print()\n",
    "print('1. c)')\n",
    "print()\n",
    "print('This constraint can be decreased by 11 before affecting feasibility.')\n"
   ]
  },
  {
   "cell_type": "code",
   "execution_count": 4,
   "metadata": {},
   "outputs": [
    {
     "name": "stdout",
     "output_type": "stream",
     "text": [
      "3. \n",
      "\n",
      "Solving with AMPL, the number of jackets should be 144, the number of bags should be 24, and the objective function should be $53,280.\n"
     ]
    }
   ],
   "source": [
    "print('3. ')\n",
    "print()\n",
    "print('Solving with AMPL, the number of jackets should be 144, the number of bags should be 24, and the objective function should be $53,280.')"
   ]
  },
  {
   "cell_type": "code",
   "execution_count": 5,
   "metadata": {},
   "outputs": [
    {
     "name": "stdout",
     "output_type": "stream",
     "text": [
      "4. \n",
      "\n",
      "From solver:\n",
      "\n",
      "Iteration 1\n",
      "\n"
     ]
    },
    {
     "data": {
      "text/plain": [
       "array([[ -2,   2,   0,   1,   3],\n",
       "       [ -2,   1,   1,   0,   2],\n",
       "       [ 30, -10,   0,   0,   0]])"
      ]
     },
     "metadata": {},
     "output_type": "display_data"
    },
    {
     "name": "stdout",
     "output_type": "stream",
     "text": [
      "\n",
      "Iteration 2\n",
      "\n"
     ]
    },
    {
     "data": {
      "text/plain": [
       "array([[ -1. ,   0. ,   1. ,  -0.5,   0.5],\n",
       "       [ -1. ,   1. ,   0. ,   0.5,   1.5],\n",
       "       [ 20. ,   0. ,   0. ,   5. ,  15. ]])"
      ]
     },
     "metadata": {},
     "output_type": "display_data"
    }
   ],
   "source": [
    "print('4. ')\n",
    "print()\n",
    "print('From solver:')\n",
    "print()\n",
    "print('Iteration 1')\n",
    "print()\n",
    "display(four1)\n",
    "print()\n",
    "print('Iteration 2')\n",
    "print()\n",
    "display(four2)\n",
    " "
   ]
  },
  {
   "cell_type": "code",
   "execution_count": 6,
   "metadata": {},
   "outputs": [
    {
     "name": "stdout",
     "output_type": "stream",
     "text": [
      "5. \n",
      "\n",
      "After solving, a negative dual solution indicated that it is unbounded, which means the primal is infeasible.\n"
     ]
    }
   ],
   "source": [
    "print('5. ')\n",
    "print()\n",
    "print('After solving, a negative dual solution indicated that it is unbounded, which means the primal is infeasible.')"
   ]
  },
  {
   "cell_type": "code",
   "execution_count": 7,
   "metadata": {},
   "outputs": [
    {
     "name": "stdout",
     "output_type": "stream",
     "text": [
      "6. \n",
      "\n",
      "When the excess is assigned to process 2 instead of 1 we multiply the following:\n"
     ]
    },
    {
     "data": {
      "text/plain": [
       "matrix([[ 0.5 , -0.25,  0.  ],\n",
       "        [ 0.  ,  0.5 ,  0.  ],\n",
       "        [-2.  ,  1.  ,  1.  ]])"
      ]
     },
     "metadata": {},
     "output_type": "display_data"
    },
    {
     "data": {
      "text/plain": [
       "matrix([[430],\n",
       "        [480],\n",
       "        [400]])"
      ]
     },
     "metadata": {},
     "output_type": "display_data"
    },
    {
     "name": "stdout",
     "output_type": "stream",
     "text": [
      "This solution is feasible, and yields a higher objective function value (765 vs 760), but maintains an excess of 20 in x6: \n"
     ]
    },
    {
     "data": {
      "text/plain": [
       "matrix([[  95.],\n",
       "        [ 240.],\n",
       "        [  20.]])"
      ]
     },
     "metadata": {},
     "output_type": "display_data"
    }
   ],
   "source": [
    "print('6. ')\n",
    "print()\n",
    "print('When the excess is assigned to process 2 instead of 1 we multiply the following:')\n",
    "display(six1)\n",
    "display(six2)\n",
    "print('This solution is feasible, and yields a higher objective function value (765 vs 760), but maintains an excess of 20 in x6: ')\n",
    "display(six1*six2)"
   ]
  },
  {
   "cell_type": "code",
   "execution_count": null,
   "metadata": {},
   "outputs": [],
   "source": []
  }
 ],
 "metadata": {
  "kernelspec": {
   "display_name": "Python 3",
   "language": "python",
   "name": "python3"
  },
  "language_info": {
   "codemirror_mode": {
    "name": "ipython",
    "version": 3
   },
   "file_extension": ".py",
   "mimetype": "text/x-python",
   "name": "python",
   "nbconvert_exporter": "python",
   "pygments_lexer": "ipython3",
   "version": "3.5.2"
  }
 },
 "nbformat": 4,
 "nbformat_minor": 2
}
