{
 "cells": [
  {
   "cell_type": "code",
   "execution_count": 1,
   "metadata": {},
   "outputs": [],
   "source": [
    "import numpy as np"
   ]
  },
  {
   "cell_type": "code",
   "execution_count": 2,
   "metadata": {},
   "outputs": [],
   "source": [
    "#declaration\n",
    "a = np.array([[5,5,3,50],[1,1,-1,20],[7,6,-9,30],[5,5,5,35],[2,4,-15,10],[12,10,0,90],[0,1,-10,20],[5,6,3,0]])\n",
    "b = np.array([[-1,1,2],[2,3,5],[-5,2,0]])\n",
    "c = np.array([[6,-3,1,2],[3,4,1,5],[6,3,0,0]])\n",
    "d = np.array([[5,-7,3,50],[10,4,5,0]])"
   ]
  },
  {
   "cell_type": "code",
   "execution_count": 3,
   "metadata": {},
   "outputs": [
    {
     "data": {
      "text/plain": [
       "array([[  5,   5,   3,  50],\n",
       "       [  1,   1,  -1,  20],\n",
       "       [  7,   6,  -9,  30],\n",
       "       [  5,   5,   5,  35],\n",
       "       [  2,   4, -15,  10],\n",
       "       [ 12,  10,   0,  90],\n",
       "       [  0,   1, -10,  20],\n",
       "       [  5,   6,   3,   0]])"
      ]
     },
     "metadata": {},
     "output_type": "display_data"
    },
    {
     "data": {
      "text/plain": [
       "array([[-1,  1,  2],\n",
       "       [ 2,  3,  5],\n",
       "       [-5,  2,  0]])"
      ]
     },
     "metadata": {},
     "output_type": "display_data"
    },
    {
     "data": {
      "text/plain": [
       "array([[ 6, -3,  1,  2],\n",
       "       [ 3,  4,  1,  5],\n",
       "       [ 6,  3,  0,  0]])"
      ]
     },
     "metadata": {},
     "output_type": "display_data"
    },
    {
     "data": {
      "text/plain": [
       "array([[ 5, -7,  3, 50],\n",
       "       [10,  4,  5,  0]])"
      ]
     },
     "metadata": {},
     "output_type": "display_data"
    }
   ],
   "source": [
    "#coeffecient matrix/tableau for primal (weights are xn)\n",
    "display(a)\n",
    "display(b)\n",
    "display(c)\n",
    "display(d)"
   ]
  },
  {
   "cell_type": "code",
   "execution_count": 4,
   "metadata": {},
   "outputs": [
    {
     "data": {
      "text/plain": [
       "array([[  5,   1,   7,   5,   2,  12,   0,   5],\n",
       "       [  5,   1,   6,   5,   4,  10,   1,   6],\n",
       "       [  3,  -1,  -9,   5, -15,   0, -10,   3],\n",
       "       [ 50,  20,  30,  35,  10,  90,  20,   0]])"
      ]
     },
     "metadata": {},
     "output_type": "display_data"
    },
    {
     "data": {
      "text/plain": [
       "array([[-1,  2, -5],\n",
       "       [ 1,  3,  2],\n",
       "       [ 2,  5,  0]])"
      ]
     },
     "metadata": {},
     "output_type": "display_data"
    },
    {
     "data": {
      "text/plain": [
       "array([[ 6,  3,  6],\n",
       "       [-3,  4,  3],\n",
       "       [ 1,  1,  0],\n",
       "       [ 2,  5,  0]])"
      ]
     },
     "metadata": {},
     "output_type": "display_data"
    },
    {
     "data": {
      "text/plain": [
       "array([[ 5, 10],\n",
       "       [-7,  4],\n",
       "       [ 3,  5],\n",
       "       [50,  0]])"
      ]
     },
     "metadata": {},
     "output_type": "display_data"
    }
   ],
   "source": [
    "#coeffecient matrix/tableau for dual (weights change from xn to yn)\n",
    "display(a.T)\n",
    "display(b.T)\n",
    "display(c.T)\n",
    "display(d.T)"
   ]
  }
 ],
 "metadata": {
  "kernelspec": {
   "display_name": "Python 3",
   "language": "python",
   "name": "python3"
  },
  "language_info": {
   "codemirror_mode": {
    "name": "ipython",
    "version": 3
   },
   "file_extension": ".py",
   "mimetype": "text/x-python",
   "name": "python",
   "nbconvert_exporter": "python",
   "pygments_lexer": "ipython3",
   "version": "3.5.2"
  }
 },
 "nbformat": 4,
 "nbformat_minor": 2
}
